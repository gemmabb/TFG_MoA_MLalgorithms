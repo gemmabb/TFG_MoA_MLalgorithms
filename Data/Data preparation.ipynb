{
 "cells": [
  {
   "cell_type": "markdown",
   "metadata": {},
   "source": [
    "# Data preparation\n",
    "\n",
    "In this notebook, we will create the datasets to be used for the algorithms, once downloaded the Kaggle data:\n",
    "1. Data splitting into training and test datasets --> useful for the Off-The-Shelf algorithms\n",
    "\n",
    "2. Dosage-Time data partition --> useful for the Off-The-Shelf algorithms\n",
    "\n",
    "4. Data files creation for SBM --> useful for the stochastic block model"
   ]
  },
  {
   "cell_type": "markdown",
   "metadata": {},
   "source": [
    "## 1. Data splitting into training and test datasets"
   ]
  },
  {
   "cell_type": "markdown",
   "metadata": {},
   "source": [
    "In order to obtain the same training and test datasets (given that it was created randomly), we saved a file (`test_conditions.txt`) with the numbers accounting for each condition that belongs to the test set. "
   ]
  },
  {
   "cell_type": "code",
   "execution_count": 61,
   "metadata": {},
   "outputs": [],
   "source": [
    "import pandas as pd\n",
    "features = pd.read_csv(\"../lish-moa/train_features.csv\", index_col=0)\n",
    "targets = pd.read_csv(\"../lish-moa/train_targets_scored.csv\", index_col=0)\n",
    "\n",
    "#cp_type:\n",
    "features.loc[features.cp_type == \"trt_cp\", \"cp_type\"] = 0\n",
    "features.loc[features.cp_type == \"ctl_vehicle\", \"cp_type\"] = 1\n",
    "#cp_dose:\n",
    "features.loc[features.cp_dose == \"D1\", 'cp_dose'] = 0\n",
    "features.loc[features.cp_dose == \"D2\", 'cp_dose'] = 1"
   ]
  },
  {
   "cell_type": "code",
   "execution_count": 14,
   "metadata": {},
   "outputs": [],
   "source": [
    "fh=open('test_conditions.txt','r')\n",
    "igot=fh.readlines()\n",
    "cond_test = []\n",
    "for line in igot:\n",
    "    cond_test.append(int(line))\n",
    "fh.close()"
   ]
  },
  {
   "cell_type": "code",
   "execution_count": 17,
   "metadata": {},
   "outputs": [],
   "source": [
    "xtest = features.iloc[cond_test,:]\n",
    "ytest = targets.iloc[cond_test,:]\n",
    "\n",
    "#the rest of conditions, belong to the training sets\n",
    "xtrain = features.iloc[[c for c in range(len(features)) if c not in cond_test],:]\n",
    "ytrain = targets.iloc[[c for c in range(len(features)) if c not in cond_test],:]"
   ]
  },
  {
   "cell_type": "code",
   "execution_count": 19,
   "metadata": {},
   "outputs": [],
   "source": [
    "ytrain.to_csv(r'ytrain.csv')\n",
    "ytest.to_csv(r'ytest.csv')\n",
    "xtrain.to_csv(r'xtrain.csv')\n",
    "xtest.to_csv(r'xtest.csv')"
   ]
  },
  {
   "cell_type": "markdown",
   "metadata": {},
   "source": [
    "## 2. Dosage-Time data partition\n",
    "\n",
    "We will create different datasets: each one having a specific combination of cp_time and cp_dose. So, in the end, there will be 6 combinations."
   ]
  },
  {
   "cell_type": "code",
   "execution_count": 20,
   "metadata": {},
   "outputs": [],
   "source": [
    "#only the treated samples!\n",
    "x_tr = xtrain[xtrain['cp_type'] == 0] \n",
    "y_tr = ytrain[xtrain['cp_type'] == 0]"
   ]
  },
  {
   "cell_type": "code",
   "execution_count": 21,
   "metadata": {},
   "outputs": [],
   "source": [
    "features_DoseTime = []\n",
    "targets_DoseTime = []\n",
    "\n",
    "dataset_DoseTime_names = [] #just in case we want to know the combination of dose and time that each dataframe has been created with\n",
    "\n",
    "for dose in sorted(x_tr.cp_dose.unique().tolist()):\n",
    "    for time in sorted(x_tr.cp_time.unique().tolist()):\n",
    "        features_DoseTime.append(x_tr[(x_tr['cp_dose'] == dose) & (x_tr['cp_time'] == time)])\n",
    "        targets_DoseTime.append(y_tr[(x_tr['cp_dose'] == dose) & (x_tr['cp_time'] == time)])\n",
    "        dataset_DoseTime_names.append(\"Dose\"+str(dose)+\"-Time\"+str(time))"
   ]
  },
  {
   "cell_type": "code",
   "execution_count": 23,
   "metadata": {},
   "outputs": [],
   "source": [
    "features_DoseTime[0].to_csv(r'xtrain_D0T24.csv')\n",
    "features_DoseTime[1].to_csv(r'xtrain_D0T48.csv')\n",
    "features_DoseTime[2].to_csv(r'xtrain_D0T72.csv')\n",
    "features_DoseTime[3].to_csv(r'xtrain_D1T24.csv')\n",
    "features_DoseTime[4].to_csv(r'xtrain_D1T48.csv')\n",
    "features_DoseTime[5].to_csv(r'xtrain_D1T72.csv')\n",
    "\n",
    "targets_DoseTime[0].to_csv(r'ytrain_D0T24.csv')\n",
    "targets_DoseTime[1].to_csv(r'ytrain_D0T48.csv')\n",
    "targets_DoseTime[2].to_csv(r'ytrain_D0T72.csv')\n",
    "targets_DoseTime[3].to_csv(r'ytrain_D1T24.csv')\n",
    "targets_DoseTime[4].to_csv(r'ytrain_D1T48.csv')\n",
    "targets_DoseTime[5].to_csv(r'ytrain_D1T72.csv')"
   ]
  },
  {
   "cell_type": "markdown",
   "metadata": {},
   "source": [
    "## 3. Data files creation for SBM\n",
    "\n",
    "We must discretise gene expression and cell viability and then we will create different files that will contain each combination of condition-moa, condition-gene and condition-cell (each file will consider one value for the combination, for example, we will have two files for the combination condition-moa--> 0 and 1)."
   ]
  },
  {
   "cell_type": "markdown",
   "metadata": {},
   "source": [
    "### Discretization (given the z-scores):"
   ]
  },
  {
   "cell_type": "code",
   "execution_count": 25,
   "metadata": {},
   "outputs": [],
   "source": [
    "g_columns = [g for g in features.columns.tolist() if g.startswith('g-')]\n",
    "c_columns = [c for c in features.columns.tolist() if c.startswith('c-')]"
   ]
  },
  {
   "cell_type": "code",
   "execution_count": 26,
   "metadata": {},
   "outputs": [],
   "source": [
    "def z_scores_over_controls(features):\n",
    "    \n",
    "    #calculating mean and standard deviation for each column (only control samples)\n",
    "    controls = features.loc[features.cp_type == 1]\n",
    "    means_genes = pd.Series(index = g_columns, dtype=object)\n",
    "    means_cells = pd.Series(index = c_columns, dtype=object)\n",
    "\n",
    "    std_genes = pd.Series(index = g_columns, dtype=object)\n",
    "    std_cells = pd.Series(index = c_columns, dtype=object)\n",
    "\n",
    "    for gene in g_columns:\n",
    "        means_genes[gene] = controls[gene].mean()\n",
    "        std_genes[gene] = controls[gene].std()\n",
    "\n",
    "    for cell in c_columns:\n",
    "        means_cells[cell] = controls[cell].mean()\n",
    "        std_cells[cell] = controls[cell].std()\n",
    "        \n",
    "    #computing z-scores for all the samples (including treated samples)\n",
    "    zscores = pd.DataFrame()\n",
    "    \n",
    "    for gene in g_columns:\n",
    "        column = []\n",
    "        for i in range(features.shape[0]):\n",
    "            column.append((features[gene][i]-means_genes[gene])/std_genes[gene])\n",
    "        zscores[gene] = column\n",
    "        \n",
    "    for cell in c_columns:\n",
    "        column = []\n",
    "        for i in range(features.shape[0]):\n",
    "            column.append((features[cell][i]-means_cells[cell])/std_cells[cell])\n",
    "        zscores[cell] = column\n",
    "        \n",
    "    zscores['cp_type'] = features['cp_type'].tolist() #adding a column with the cp type\n",
    "\n",
    "    return(zscores)"
   ]
  },
  {
   "cell_type": "code",
   "execution_count": 27,
   "metadata": {},
   "outputs": [],
   "source": [
    "z_scores = z_scores_over_controls(features)"
   ]
  },
  {
   "cell_type": "code",
   "execution_count": 28,
   "metadata": {},
   "outputs": [],
   "source": [
    "def gene_discretization(names_cols, z_scores, threshold):\n",
    "    new_df = pd.DataFrame(index = z_scores.index, columns = names_cols)\n",
    "    for element in names_cols:\n",
    "        new_column = []\n",
    "        for i in range(z_scores.shape[0]):\n",
    "            if (z_scores[element][i] < -threshold):\n",
    "                new_column.append(-1)\n",
    "            elif (z_scores[element][i] > threshold):\n",
    "                new_column.append(1)\n",
    "            else:\n",
    "                new_column.append(0)\n",
    "        new_df[element] = new_column        \n",
    "    return(new_df)"
   ]
  },
  {
   "cell_type": "code",
   "execution_count": 77,
   "metadata": {},
   "outputs": [],
   "source": [
    "genes_discretized = gene_discretization(g_columns, z_scores, 5)\n",
    "genes_discretized.to_csv('Genes_discretization_5.csv')"
   ]
  },
  {
   "cell_type": "code",
   "execution_count": 30,
   "metadata": {},
   "outputs": [],
   "source": [
    "def cell_discretization(names_cols, z_scores, threshold):\n",
    "    new_df = pd.DataFrame(index = z_scores.index, columns = names_cols)\n",
    "    for element in names_cols:\n",
    "        new_column = []\n",
    "        for i in range(z_scores.shape[0]):\n",
    "            if (z_scores[element][i] < -threshold):\n",
    "                new_column.append(0)\n",
    "            else:\n",
    "                new_column.append(1)\n",
    "        new_df[element] = new_column        \n",
    "    return(new_df)"
   ]
  },
  {
   "cell_type": "code",
   "execution_count": 78,
   "metadata": {},
   "outputs": [],
   "source": [
    "cells_discretized = cell_discretization(c_columns, z_scores, 6)\n",
    "cells_discretized.to_csv('Cells_discretization_6.csv')"
   ]
  },
  {
   "cell_type": "markdown",
   "metadata": {},
   "source": [
    "### Condition-MoA files:"
   ]
  },
  {
   "cell_type": "markdown",
   "metadata": {},
   "source": [
    "Besides the files contaning the combinations that have a 1 or a 0, we will save the ids."
   ]
  },
  {
   "cell_type": "code",
   "execution_count": 75,
   "metadata": {},
   "outputs": [],
   "source": [
    "fh=open('../lish-moa/train_targets_scored.csv',\"r\")\n",
    "igot = fh.readlines() #reading each row as a string, list of strings\n",
    "names=igot[0].strip().split(',') #names = names of MoAs = list of strings\n",
    "\n",
    "#### MOA - INTEGER NUMBER ASSIGNATION, OUTPUT FILE ####\n",
    "fout=open('MoAsID.csv','w') #write!\n",
    "del names[0] #remove the first string (i.e., 'sig_id')\n",
    "\n",
    "for i in range(len(names)):\n",
    "\tfout.write('%s,%s\\n' % (names[i],i)) #name of MoA and the integer number assigned (0,1,2,3...)\n",
    "fout.close()\n",
    "\n",
    "del igot[0] #We're done with 1st line processing (MoA names)\n",
    "\n",
    "nc=[]\n",
    "nm=[]\n",
    "\n",
    "for line in igot:\n",
    "\tabout = line.strip().split(',') #list of strings (actually, 0s or 1s)\n",
    "\tfor z in range(len(about)-1): #notice that the first element of each 'about' is actually the id!\n",
    "\t\tnc.append(about[0]) #nc will contain all the ids (no matter what)\n",
    "\n",
    "#### CONDITION - INTEGER NUMBER ASSIGNATION, OUTPUT FILE ####\n",
    "fout2=open('conditionsID.csv','w')\n",
    "nc=sorted(set(nc))  #nc = whole set of ids * 206 (#MoAs), we only want unique ids\n",
    "ii=0\n",
    "cond={} #ids\n",
    "for e in nc:\n",
    "\tcond[e]=ii #creating the dictionary which will be used later when creating the files with 0s and 1s\n",
    "\tfout2.write('%s,%s\\n' % (e,ii))\n",
    "\tii=ii+1\n",
    "fout2.close()"
   ]
  },
  {
   "cell_type": "code",
   "execution_count": 76,
   "metadata": {},
   "outputs": [],
   "source": [
    "fh=open('ytrain.csv',\"r\")\n",
    "igot = fh.readlines() #reading each row as a string, list of strings\n",
    "names=igot[0].strip().split(',') #names = names of MoAs = list of strings\n",
    "del igot[0] #We're done with 1st line processing (MoA names)\n",
    "\n",
    "l0=[]\n",
    "l1=[]\n",
    "\n",
    "for line in igot:\n",
    "\tabout = line.strip().split(',') #list of strings (actually, 0s or 1s)\n",
    "\tfor z in range(len(about)-1): #notice that the first element of each 'about' is actually the id!\n",
    "\t\tif int(about[z+1])==0: #we must look for the element starting from index 1 (there's where we have 0s or 1s)\n",
    "\t\t\tl0.append((about[0],z)) #saving the id and the index of the MoA assigned to 0\n",
    "\t\telse:\n",
    "\t\t\tl1.append((about[0],z))\n",
    "\n",
    "#### CONDITIONS/MOA WITH 0s ####\n",
    "fout3=open('c-moastrain0.csv','w')\n",
    "for e1,e2 in l0:\n",
    "\tfout3.write('%s,%s\\n' % (cond[e1],e2)) #cond[e1] will give us the integer assigned to that condition; e2, the number of MoA\n",
    "fout3.close()\n",
    "\n",
    "#### CONDITIONS/MOA WITH 1s ####\n",
    "fout4=open('c-moastrain1.csv','w')\n",
    "for e1,e2 in l1:\n",
    "\tfout4.write('%s,%s\\n' % (cond[e1],e2))\n",
    "fout4.close()"
   ]
  },
  {
   "cell_type": "markdown",
   "metadata": {},
   "source": [
    "### Condition-gene files (whole dataset, including training and test):"
   ]
  },
  {
   "cell_type": "code",
   "execution_count": 79,
   "metadata": {},
   "outputs": [],
   "source": [
    "fh=open('Genes_discretization_5.csv',\"r\") \n",
    "igot = fh.readlines() #reading each row as a string, list of strings\n",
    "#igot[0] #1st element: all the column names (sig_id + genes)\n",
    "names=igot[0].strip().split(',') #names = names of genes = list of strings\n",
    "#### GENES - INTEGER NUMBER ASSIGNATION, OUTPUT FILE ####\n",
    "fout=open('GenesID.csv','w') #write!\n",
    "del names[0] #remove the first string (i.e., 'sig_id')\n",
    "\n",
    "for i in range(len(names)):\n",
    "\tfout.write('%s,%s\\n' % (names[i],i)) #name of gene and the integer number assigned (0,1,2,3...)\n",
    "fout.close()\n",
    "\n",
    "del igot[0] #We're done with 1st line processing (MoA names)\n",
    "\n",
    "l_1=[] #link -1: list with tupples (condition, index of the gene) linked with -1\n",
    "l0=[]  #link 0\n",
    "l1=[]  #link 1\n",
    "nc=[]  #list containing all the conditions ids (* genes)\n",
    "nm=[]  \n",
    "\n",
    "for line in igot:\n",
    "\tabout = line.strip().split(',') #list of strings (actually, -1s, 0s or 1s)\n",
    "\tfor z in range(len(about)-1): #notice that the first element of each 'about' is actually the id!\n",
    "\t\tif int(about[z+1])== -1: #we must look for the element starting from index 1\n",
    "\t\t\tl_1.append((about[0],z)) #saving the condition id and the index of the gene assigned to -1\n",
    "\t\t\tnc.append(about[0]) #nc will contain all the ids (no matter what)\n",
    "\t\telif int(about[z+1])== 0:\n",
    "\t\t\tl0.append((about[0],z)) #saving the condition id and the index of the gene assigned to 0\n",
    "\t\t\tnc.append(about[0])         \n",
    "\t\telse: #link 1\n",
    "\t\t\tl1.append((about[0],z)) #saving the condition id and the index of the gene assigned to 1\n",
    "\t\t\tnc.append(about[0]) \n",
    "            \n",
    "#### CONDITION - INTEGER NUMBER ASSIGNATION, OUTPUT FILE ####\n",
    "fout2=open('conditionsID_genes.csv','w')\n",
    "nc=sorted(set(nc))  #nc = whole set of ids * 772 (#genes), we only want unique ids\n",
    "ii=0\n",
    "cond={} #ids\n",
    "for e in nc:\n",
    "\tcond[e]=ii #creating the dictionary which will be used later when creating the files with 0s and 1s\n",
    "\tfout2.write('%s,%s\\n' % (e,ii))\n",
    "\tii=ii+1\n",
    "fout2.close() #this file and conditionsID (the one created when parsing the file of targets) are the same\n",
    "\n",
    "#### CONDITIONS/GENES WITH -1s ####\n",
    "fout3=open('c-genestrain-1.csv','w')\n",
    "for e1,e2 in l_1:\n",
    "\tfout3.write('%s,%s\\n' % (cond[e1],e2)) #cond[e1] will give us the integer assigned to that condition; e2, the number of gene\n",
    "fout3.close()\n",
    "\n",
    "#### CONDITIONS/GENES WITH 0s ####\n",
    "fout4=open('c-genestrain0.csv','w')\n",
    "for e1,e2 in l0:\n",
    "\tfout4.write('%s,%s\\n' % (cond[e1],e2)) \n",
    "fout4.close()\n",
    "\n",
    "#### CONDITIONS/GENES WITH 1s ####\n",
    "fout5=open('c-genestrain1.csv','w')\n",
    "for e1,e2 in l1:\n",
    "\tfout5.write('%s,%s\\n' % (cond[e1],e2))\n",
    "fout5.close()"
   ]
  },
  {
   "cell_type": "markdown",
   "metadata": {},
   "source": [
    "### Condition-cell files (whole dataset, including training and test):"
   ]
  },
  {
   "cell_type": "code",
   "execution_count": 82,
   "metadata": {},
   "outputs": [],
   "source": [
    "fh=open('Cells_discretization_6.csv',\"r\") \n",
    "igot = fh.readlines() #reading each row as a string, list of strings\n",
    "#igot[0] #1st element: all the column names (sig_id + genes)\n",
    "names=igot[0].strip().split(',') #names = names of genes = list of strings\n",
    "#### CELL - INTEGER NUMBER ASSIGNATION, OUTPUT FILE ####\n",
    "fout=open('CellsID.csv','w') #write!\n",
    "del names[0] #remove the first string (i.e., 'sig_id')\n",
    "\n",
    "for i in range(len(names)):\n",
    "\tfout.write('%s,%s\\n' % (names[i],i)) #name of gene and the integer number assigned (0,1,2,3...)\n",
    "fout.close()\n",
    "\n",
    "del igot[0] #We're done with 1st line processing (MoA names)\n",
    "\n",
    "l_1=[] #link -1: list with tupples (condition, index of the gene) linked with -1\n",
    "l0=[]  #link 0\n",
    "l1=[]  #link 1\n",
    "nc=[]  #list containing all the conditions ids (* genes)\n",
    "nm=[]  \n",
    "\n",
    "for line in igot:\n",
    "\tabout = line.strip().split(',') #list of strings (actually, 0s or 1s)\n",
    "\tfor z in range(len(about)-1): #notice that the first element of each 'about' is actually the id!\n",
    "\t\tif int(about[z+1])== 0:\n",
    "\t\t\tl0.append((about[0],z)) #saving the condition id and the index of the cell assigned to 0\n",
    "\t\t\tnc.append(about[0])         \n",
    "\t\telse: #link c\n",
    "\t\t\tl1.append((about[0],z)) #saving the condition id and the index of the cell assigned to 1\n",
    "\t\t\tnc.append(about[0]) \n",
    "            \n",
    "#### CONDITION - INTEGER NUMBER ASSIGNATION, OUTPUT FILE ####\n",
    "fout2=open('conditionsID_cells.csv','w')\n",
    "nc=sorted(set(nc))  #nc = whole set of ids * 772 (#genes), we only want unique ids\n",
    "ii=0\n",
    "cond={} #ids\n",
    "for e in nc:\n",
    "\tcond[e]=ii #creating the dictionary which will be used later when creating the files with 0s and 1s\n",
    "\tfout2.write('%s,%s\\n' % (e,ii))\n",
    "\tii=ii+1\n",
    "fout2.close() #this file and conditionsID (the one created when parsing the file of targets) are the same\n",
    "\n",
    "#### CONDITIONS/CELLS WITH 0s ####\n",
    "fout3=open('c-cellstrain1.csv','w')\n",
    "for e1,e2 in l1:\n",
    "\tfout3.write('%s,%s\\n' % (cond[e1],e2)) #cond[e1] will give us the integer assigned to that condition; e2, the number of gene\n",
    "fout3.close()\n",
    "\n",
    "#### CONDITIONS/CELLS WITH 1s ####\n",
    "fout4=open('c-cellstrain0.csv','w')\n",
    "for e1,e2 in l0:\n",
    "\tfout4.write('%s,%s\\n' % (cond[e1],e2)) \n",
    "fout4.close()"
   ]
  }
 ],
 "metadata": {
  "kernelspec": {
   "display_name": "Python 3",
   "language": "python",
   "name": "python3"
  },
  "language_info": {
   "codemirror_mode": {
    "name": "ipython",
    "version": 3
   },
   "file_extension": ".py",
   "mimetype": "text/x-python",
   "name": "python",
   "nbconvert_exporter": "python",
   "pygments_lexer": "ipython3",
   "version": "3.8.5"
  }
 },
 "nbformat": 4,
 "nbformat_minor": 4
}
