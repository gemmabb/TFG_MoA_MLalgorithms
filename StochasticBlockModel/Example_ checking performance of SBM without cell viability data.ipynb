{
 "cells": [
  {
   "cell_type": "markdown",
   "metadata": {},
   "source": [
    "# Example: checking performance of SBM without cell viability data\n",
    "\n",
    "This notebook is used for K=L=10 and T=5. But you can use it for any case, just by changing the name of the files and the values of K, L, T.\n",
    "### Prediction scores for K=L=10 and T=5 and 500 iterations\n",
    "**100 runs**! and λg=0.25...\n",
    "\n",
    "folder: `K10L10T5`"
   ]
  },
  {
   "cell_type": "code",
   "execution_count": null,
   "metadata": {},
   "outputs": [],
   "source": [
    "import results_functions as results"
   ]
  },
  {
   "cell_type": "code",
   "execution_count": null,
   "metadata": {},
   "outputs": [],
   "source": [
    "help(results.predictions_and_scores)"
   ]
  },
  {
   "cell_type": "code",
   "execution_count": null,
   "metadata": {},
   "outputs": [],
   "source": [
    "import pandas as pd\n",
    "import plotly.graph_objects as go\n",
    "\n",
    "#log posteriors:\n",
    "direct = 'K10L10T5/'"
   ]
  },
  {
   "cell_type": "code",
   "execution_count": null,
   "metadata": {},
   "outputs": [],
   "source": [
    "fig = go.Figure()\n",
    "for i in range(1, 100+1): #from 1 to 100\n",
    "    post = pd.read_csv(direct+'likelihood_K10L10T5_fold1_iters500_run'+str(i)+'.csv', names=['iter', 'log_post'])\n",
    "    fig.add_trace(go.Scatter(x=post['iter'], y=post['log_post'], mode='lines', name='run'+str(i)))\n",
    "    \n",
    "fig.update_layout(title='Log posterior evolution', xaxis_title='iteration', yaxis_title='log posterior')\n",
    "fig.show()"
   ]
  },
  {
   "cell_type": "code",
   "execution_count": null,
   "metadata": {},
   "outputs": [],
   "source": [
    "K = L = 10\n",
    "T = 5\n",
    "n_cond = 23814\n",
    "n_moa = 206\n",
    "n_gen = 772\n",
    "fold = 1"
   ]
  },
  {
   "cell_type": "code",
   "execution_count": null,
   "metadata": {},
   "outputs": [],
   "source": [
    "file_cond_test = '../Data/test_conditions.txt'\n",
    "file_parameters = direct+'param_K10L10T5_fold1_iters500_run' #until run (the number will be defined inside the function)"
   ]
  },
  {
   "cell_type": "code",
   "execution_count": null,
   "metadata": {},
   "outputs": [],
   "source": [
    "(probab, lls) = results.predictions_and_scores(fold, file_cond_test, file_parameters, K, L, T, \n",
    "                                                          n_cond, n_moa, n_gen, runs=100)"
   ]
  }
 ],
 "metadata": {
  "kernelspec": {
   "display_name": "Python 3",
   "language": "python",
   "name": "python3"
  },
  "language_info": {
   "codemirror_mode": {
    "name": "ipython",
    "version": 3
   },
   "file_extension": ".py",
   "mimetype": "text/x-python",
   "name": "python",
   "nbconvert_exporter": "python",
   "pygments_lexer": "ipython3",
   "version": "3.8.5"
  }
 },
 "nbformat": 4,
 "nbformat_minor": 4
}
