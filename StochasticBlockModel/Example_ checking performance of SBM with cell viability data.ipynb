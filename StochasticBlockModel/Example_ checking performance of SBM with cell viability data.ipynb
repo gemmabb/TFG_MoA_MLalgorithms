{
 "cells": [
  {
   "cell_type": "markdown",
   "metadata": {},
   "source": [
    "# Example: checking performance of SBM with cell viability data\n",
    "\n",
    "This notebook is used for K=L=T=F=2. But you can use it for any case, just by changing the name of the files and the values of K, L, T, F.\n",
    "\n",
    "## Results for K L T F = 2, 800 iters (cells)"
   ]
  },
  {
   "cell_type": "markdown",
   "metadata": {},
   "source": [
    "### lambdav=2"
   ]
  },
  {
   "cell_type": "code",
   "execution_count": null,
   "metadata": {},
   "outputs": [],
   "source": [
    "K = L = T = F = 2\n",
    "n_cond = 23814\n",
    "n_moa = 206\n",
    "n_gen = 772\n",
    "n_cell = 100\n",
    "fold = 1"
   ]
  },
  {
   "cell_type": "code",
   "execution_count": null,
   "metadata": {},
   "outputs": [],
   "source": [
    "import pandas as pd\n",
    "import plotly.graph_objects as go\n",
    "\n",
    "#log posteriors:\n",
    "direct = '2groups_lambda2/'"
   ]
  },
  {
   "cell_type": "code",
   "execution_count": null,
   "metadata": {},
   "outputs": [],
   "source": [
    "fig = go.Figure()\n",
    "for i in range(1, 10+1): #from 1 to 9\n",
    "    post = pd.read_csv(direct+'likelihood_K2L2T2_fold1_iters800_run'+str(i)+'.csv', names=['iter', 'log_post'])\n",
    "    fig.add_trace(go.Scatter(x=post['iter'], y=post['log_post'], mode='lines', name='run'+str(i)))\n",
    "    \n",
    "fig.update_layout(title='Log posterior evolution', xaxis_title='iteration', yaxis_title='log posterior')\n",
    "fig.show()"
   ]
  },
  {
   "cell_type": "code",
   "execution_count": null,
   "metadata": {},
   "outputs": [],
   "source": [
    "file_cond_test = '/Users/belbordes/Desktop/MoA Project/Code_revision_Toñi/Gemma_1abril/5foldCV_data/F'+str(fold)+'_test_conditions.txt'\n",
    "file_parameters = direct+'param_K2L2T2_fold1_iters800_run' #until run (the number will be defined inside the function)"
   ]
  },
  {
   "cell_type": "code",
   "execution_count": null,
   "metadata": {},
   "outputs": [],
   "source": [
    "from results_functions import predictions_and_scores_withCells"
   ]
  },
  {
   "cell_type": "code",
   "execution_count": null,
   "metadata": {},
   "outputs": [],
   "source": [
    "(probab, lls) = predictions_and_scores_withCells(fold, file_cond_test, file_parameters, \n",
    "                                                            K, L, T, F, n_cond, n_moa, n_gen, n_cell, runs=10)"
   ]
  },
  {
   "cell_type": "markdown",
   "metadata": {},
   "source": [
    "no improvement (better without cells)"
   ]
  }
 ],
 "metadata": {
  "kernelspec": {
   "display_name": "Python 3",
   "language": "python",
   "name": "python3"
  },
  "language_info": {
   "codemirror_mode": {
    "name": "ipython",
    "version": 3
   },
   "file_extension": ".py",
   "mimetype": "text/x-python",
   "name": "python",
   "nbconvert_exporter": "python",
   "pygments_lexer": "ipython3",
   "version": "3.8.5"
  }
 },
 "nbformat": 4,
 "nbformat_minor": 4
}
